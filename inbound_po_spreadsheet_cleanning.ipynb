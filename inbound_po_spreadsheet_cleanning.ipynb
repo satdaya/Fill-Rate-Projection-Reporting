{
 "cells": [
  {
   "cell_type": "code",
   "execution_count": 28,
   "metadata": {},
   "outputs": [
    {
     "data": {
      "text/html": [
       "<div>\n",
       "<style scoped>\n",
       "    .dataframe tbody tr th:only-of-type {\n",
       "        vertical-align: middle;\n",
       "    }\n",
       "\n",
       "    .dataframe tbody tr th {\n",
       "        vertical-align: top;\n",
       "    }\n",
       "\n",
       "    .dataframe thead th {\n",
       "        text-align: right;\n",
       "    }\n",
       "</style>\n",
       "<table border=\"1\" class=\"dataframe\">\n",
       "  <thead>\n",
       "    <tr style=\"text-align: right;\">\n",
       "      <th></th>\n",
       "      <th>Vendor Name</th>\n",
       "      <th>P/O Number</th>\n",
       "      <th>P/O Numb</th>\n",
       "      <th>Line Code</th>\n",
       "      <th>Part Number</th>\n",
       "      <th>qty_ord</th>\n",
       "      <th>qty_it</th>\n",
       "      <th>qty_bal</th>\n",
       "      <th>it_dbd</th>\n",
       "      <th>bal_dbd</th>\n",
       "    </tr>\n",
       "  </thead>\n",
       "  <tbody>\n",
       "    <tr>\n",
       "      <th>0</th>\n",
       "      <td>YANTAI RONGDI INTL TRADE CO., LTD</td>\n",
       "      <td>2-066917-4</td>\n",
       "      <td>2-066917</td>\n",
       "      <td>DRR</td>\n",
       "      <td>121.20014</td>\n",
       "      <td>49</td>\n",
       "      <td>49</td>\n",
       "      <td>0</td>\n",
       "      <td>4/2/2021</td>\n",
       "      <td>NaN</td>\n",
       "    </tr>\n",
       "    <tr>\n",
       "      <th>1</th>\n",
       "      <td>YANTAI RONGDI INTL TRADE CO., LTD</td>\n",
       "      <td>2-066917-4</td>\n",
       "      <td>2-066917</td>\n",
       "      <td>DRR</td>\n",
       "      <td>121.20024</td>\n",
       "      <td>53</td>\n",
       "      <td>53</td>\n",
       "      <td>0</td>\n",
       "      <td>4/2/2021</td>\n",
       "      <td>NaN</td>\n",
       "    </tr>\n",
       "    <tr>\n",
       "      <th>2</th>\n",
       "      <td>YANTAI RONGDI INTL TRADE CO., LTD</td>\n",
       "      <td>2-066917-4</td>\n",
       "      <td>2-066917</td>\n",
       "      <td>DRR</td>\n",
       "      <td>121.34096</td>\n",
       "      <td>22</td>\n",
       "      <td>22</td>\n",
       "      <td>0</td>\n",
       "      <td>4/2/2021</td>\n",
       "      <td>NaN</td>\n",
       "    </tr>\n",
       "    <tr>\n",
       "      <th>3</th>\n",
       "      <td>YANTAI RONGDI INTL TRADE CO., LTD</td>\n",
       "      <td>2-066917-4</td>\n",
       "      <td>2-066917</td>\n",
       "      <td>DRR</td>\n",
       "      <td>121.39038</td>\n",
       "      <td>392</td>\n",
       "      <td>392</td>\n",
       "      <td>0</td>\n",
       "      <td>4/2/2021</td>\n",
       "      <td>NaN</td>\n",
       "    </tr>\n",
       "    <tr>\n",
       "      <th>4</th>\n",
       "      <td>YANTAI RONGDI INTL TRADE CO., LTD</td>\n",
       "      <td>2-066917-4</td>\n",
       "      <td>2-066917</td>\n",
       "      <td>DRR</td>\n",
       "      <td>121.58006</td>\n",
       "      <td>178</td>\n",
       "      <td>178</td>\n",
       "      <td>0</td>\n",
       "      <td>4/2/2021</td>\n",
       "      <td>NaN</td>\n",
       "    </tr>\n",
       "  </tbody>\n",
       "</table>\n",
       "</div>"
      ],
      "text/plain": [
       "                         Vendor Name  P/O Number  P/O Numb Line Code  \\\n",
       "0  YANTAI RONGDI INTL TRADE CO., LTD  2-066917-4  2-066917       DRR   \n",
       "1  YANTAI RONGDI INTL TRADE CO., LTD  2-066917-4  2-066917       DRR   \n",
       "2  YANTAI RONGDI INTL TRADE CO., LTD  2-066917-4  2-066917       DRR   \n",
       "3  YANTAI RONGDI INTL TRADE CO., LTD  2-066917-4  2-066917       DRR   \n",
       "4  YANTAI RONGDI INTL TRADE CO., LTD  2-066917-4  2-066917       DRR   \n",
       "\n",
       "  Part Number  qty_ord  qty_it  qty_bal    it_dbd bal_dbd  \n",
       "0   121.20014       49      49        0  4/2/2021     NaN  \n",
       "1   121.20024       53      53        0  4/2/2021     NaN  \n",
       "2   121.34096       22      22        0  4/2/2021     NaN  \n",
       "3   121.39038      392     392        0  4/2/2021     NaN  \n",
       "4   121.58006      178     178        0  4/2/2021     NaN  "
      ]
     },
     "execution_count": 28,
     "metadata": {},
     "output_type": "execute_result"
    }
   ],
   "source": [
    "#read in in transit/on po data \n",
    "\n",
    "import pandas as pd\n",
    "\n",
    "po_ld = pd.read_csv(r'C:\\Users\\skhalsa\\Desktop\\pd_ld_3_30_21_v3.csv')\n",
    "\n",
    "po_ld.head()"
   ]
  },
  {
   "cell_type": "code",
   "execution_count": 29,
   "metadata": {},
   "outputs": [
    {
     "data": {
      "text/plain": [
       "(49318, 10)"
      ]
     },
     "execution_count": 29,
     "metadata": {},
     "output_type": "execute_result"
    }
   ],
   "source": [
    "#ensure that the data is clean\n",
    "po_ld.shape"
   ]
  },
  {
   "cell_type": "code",
   "execution_count": 30,
   "metadata": {},
   "outputs": [],
   "source": [
    "#split the dataset between in transit and balance. In this case, establishing the in transit data\n",
    "po_ld_it = po_ld[['Line Code', 'Part Number', 'it_dbd', 'qty_it',]]"
   ]
  },
  {
   "cell_type": "code",
   "execution_count": 31,
   "metadata": {},
   "outputs": [
    {
     "data": {
      "text/html": [
       "<div>\n",
       "<style scoped>\n",
       "    .dataframe tbody tr th:only-of-type {\n",
       "        vertical-align: middle;\n",
       "    }\n",
       "\n",
       "    .dataframe tbody tr th {\n",
       "        vertical-align: top;\n",
       "    }\n",
       "\n",
       "    .dataframe thead th {\n",
       "        text-align: right;\n",
       "    }\n",
       "</style>\n",
       "<table border=\"1\" class=\"dataframe\">\n",
       "  <thead>\n",
       "    <tr style=\"text-align: right;\">\n",
       "      <th></th>\n",
       "      <th>Line Code</th>\n",
       "      <th>Part Number</th>\n",
       "      <th>it_dbd</th>\n",
       "      <th>qty_it</th>\n",
       "    </tr>\n",
       "  </thead>\n",
       "  <tbody>\n",
       "    <tr>\n",
       "      <th>0</th>\n",
       "      <td>DRR</td>\n",
       "      <td>121.20014</td>\n",
       "      <td>4/2/2021</td>\n",
       "      <td>49</td>\n",
       "    </tr>\n",
       "    <tr>\n",
       "      <th>1</th>\n",
       "      <td>DRR</td>\n",
       "      <td>121.20024</td>\n",
       "      <td>4/2/2021</td>\n",
       "      <td>53</td>\n",
       "    </tr>\n",
       "    <tr>\n",
       "      <th>2</th>\n",
       "      <td>DRR</td>\n",
       "      <td>121.34096</td>\n",
       "      <td>4/2/2021</td>\n",
       "      <td>22</td>\n",
       "    </tr>\n",
       "    <tr>\n",
       "      <th>3</th>\n",
       "      <td>DRR</td>\n",
       "      <td>121.39038</td>\n",
       "      <td>4/2/2021</td>\n",
       "      <td>392</td>\n",
       "    </tr>\n",
       "    <tr>\n",
       "      <th>4</th>\n",
       "      <td>DRR</td>\n",
       "      <td>121.58006</td>\n",
       "      <td>4/2/2021</td>\n",
       "      <td>178</td>\n",
       "    </tr>\n",
       "  </tbody>\n",
       "</table>\n",
       "</div>"
      ],
      "text/plain": [
       "  Line Code Part Number    it_dbd  qty_it\n",
       "0       DRR   121.20014  4/2/2021      49\n",
       "1       DRR   121.20024  4/2/2021      53\n",
       "2       DRR   121.34096  4/2/2021      22\n",
       "3       DRR   121.39038  4/2/2021     392\n",
       "4       DRR   121.58006  4/2/2021     178"
      ]
     },
     "execution_count": 31,
     "metadata": {},
     "output_type": "execute_result"
    }
   ],
   "source": [
    "po_ld_it.head()"
   ]
  },
  {
   "cell_type": "code",
   "execution_count": 34,
   "metadata": {},
   "outputs": [],
   "source": [
    "#split the items on PO (not yet in transit)\n",
    "po_ld_bal = po_ld[['Line Code', 'Part Number', 'bal_dbd', 'qty_bal',]]"
   ]
  },
  {
   "cell_type": "code",
   "execution_count": 45,
   "metadata": {},
   "outputs": [
    {
     "data": {
      "text/html": [
       "<div>\n",
       "<style scoped>\n",
       "    .dataframe tbody tr th:only-of-type {\n",
       "        vertical-align: middle;\n",
       "    }\n",
       "\n",
       "    .dataframe tbody tr th {\n",
       "        vertical-align: top;\n",
       "    }\n",
       "\n",
       "    .dataframe thead th {\n",
       "        text-align: right;\n",
       "    }\n",
       "</style>\n",
       "<table border=\"1\" class=\"dataframe\">\n",
       "  <thead>\n",
       "    <tr style=\"text-align: right;\">\n",
       "      <th></th>\n",
       "      <th>Line Code</th>\n",
       "      <th>Part Number</th>\n",
       "      <th>dbd</th>\n",
       "      <th>qty_bal</th>\n",
       "    </tr>\n",
       "  </thead>\n",
       "  <tbody>\n",
       "    <tr>\n",
       "      <th>0</th>\n",
       "      <td>DRR</td>\n",
       "      <td>121.20014</td>\n",
       "      <td>NaN</td>\n",
       "      <td>0</td>\n",
       "    </tr>\n",
       "    <tr>\n",
       "      <th>1</th>\n",
       "      <td>DRR</td>\n",
       "      <td>121.20024</td>\n",
       "      <td>NaN</td>\n",
       "      <td>0</td>\n",
       "    </tr>\n",
       "    <tr>\n",
       "      <th>2</th>\n",
       "      <td>DRR</td>\n",
       "      <td>121.34096</td>\n",
       "      <td>NaN</td>\n",
       "      <td>0</td>\n",
       "    </tr>\n",
       "    <tr>\n",
       "      <th>3</th>\n",
       "      <td>DRR</td>\n",
       "      <td>121.39038</td>\n",
       "      <td>NaN</td>\n",
       "      <td>0</td>\n",
       "    </tr>\n",
       "    <tr>\n",
       "      <th>4</th>\n",
       "      <td>DRR</td>\n",
       "      <td>121.58006</td>\n",
       "      <td>NaN</td>\n",
       "      <td>0</td>\n",
       "    </tr>\n",
       "  </tbody>\n",
       "</table>\n",
       "</div>"
      ],
      "text/plain": [
       "  Line Code Part Number  dbd  qty_bal\n",
       "0       DRR   121.20014  NaN        0\n",
       "1       DRR   121.20024  NaN        0\n",
       "2       DRR   121.34096  NaN        0\n",
       "3       DRR   121.39038  NaN        0\n",
       "4       DRR   121.58006  NaN        0"
      ]
     },
     "execution_count": 45,
     "metadata": {},
     "output_type": "execute_result"
    }
   ],
   "source": [
    "po_ld_bal.head()"
   ]
  },
  {
   "cell_type": "code",
   "execution_count": 51,
   "metadata": {},
   "outputs": [],
   "source": [
    "#rename columns before stacking\n",
    "po_ld_it.rename(columns={'it_dbd': 'dbd', 'qty_it': 'qty'}, inplace=True)\n",
    "po_ld_bal.rename(columns={'bal_dbd': 'dbd', 'qty_bal': 'qty'}, inplace=True)\n"
   ]
  },
  {
   "cell_type": "code",
   "execution_count": 52,
   "metadata": {},
   "outputs": [
    {
     "data": {
      "text/html": [
       "<div>\n",
       "<style scoped>\n",
       "    .dataframe tbody tr th:only-of-type {\n",
       "        vertical-align: middle;\n",
       "    }\n",
       "\n",
       "    .dataframe tbody tr th {\n",
       "        vertical-align: top;\n",
       "    }\n",
       "\n",
       "    .dataframe thead th {\n",
       "        text-align: right;\n",
       "    }\n",
       "</style>\n",
       "<table border=\"1\" class=\"dataframe\">\n",
       "  <thead>\n",
       "    <tr style=\"text-align: right;\">\n",
       "      <th></th>\n",
       "      <th>Line Code</th>\n",
       "      <th>Part Number</th>\n",
       "      <th>dbd</th>\n",
       "      <th>qty</th>\n",
       "    </tr>\n",
       "  </thead>\n",
       "  <tbody>\n",
       "    <tr>\n",
       "      <th>0</th>\n",
       "      <td>DRR</td>\n",
       "      <td>121.20014</td>\n",
       "      <td>4/2/2021</td>\n",
       "      <td>49</td>\n",
       "    </tr>\n",
       "    <tr>\n",
       "      <th>1</th>\n",
       "      <td>DRR</td>\n",
       "      <td>121.20024</td>\n",
       "      <td>4/2/2021</td>\n",
       "      <td>53</td>\n",
       "    </tr>\n",
       "    <tr>\n",
       "      <th>2</th>\n",
       "      <td>DRR</td>\n",
       "      <td>121.34096</td>\n",
       "      <td>4/2/2021</td>\n",
       "      <td>22</td>\n",
       "    </tr>\n",
       "    <tr>\n",
       "      <th>3</th>\n",
       "      <td>DRR</td>\n",
       "      <td>121.39038</td>\n",
       "      <td>4/2/2021</td>\n",
       "      <td>392</td>\n",
       "    </tr>\n",
       "    <tr>\n",
       "      <th>4</th>\n",
       "      <td>DRR</td>\n",
       "      <td>121.58006</td>\n",
       "      <td>4/2/2021</td>\n",
       "      <td>178</td>\n",
       "    </tr>\n",
       "  </tbody>\n",
       "</table>\n",
       "</div>"
      ],
      "text/plain": [
       "  Line Code Part Number       dbd  qty\n",
       "0       DRR   121.20014  4/2/2021   49\n",
       "1       DRR   121.20024  4/2/2021   53\n",
       "2       DRR   121.34096  4/2/2021   22\n",
       "3       DRR   121.39038  4/2/2021  392\n",
       "4       DRR   121.58006  4/2/2021  178"
      ]
     },
     "execution_count": 52,
     "metadata": {},
     "output_type": "execute_result"
    }
   ],
   "source": [
    "#ensure changes were applid\n",
    "po_ld_it.head()"
   ]
  },
  {
   "cell_type": "code",
   "execution_count": 53,
   "metadata": {},
   "outputs": [
    {
     "data": {
      "text/html": [
       "<div>\n",
       "<style scoped>\n",
       "    .dataframe tbody tr th:only-of-type {\n",
       "        vertical-align: middle;\n",
       "    }\n",
       "\n",
       "    .dataframe tbody tr th {\n",
       "        vertical-align: top;\n",
       "    }\n",
       "\n",
       "    .dataframe thead th {\n",
       "        text-align: right;\n",
       "    }\n",
       "</style>\n",
       "<table border=\"1\" class=\"dataframe\">\n",
       "  <thead>\n",
       "    <tr style=\"text-align: right;\">\n",
       "      <th></th>\n",
       "      <th>Line Code</th>\n",
       "      <th>Part Number</th>\n",
       "      <th>dbd</th>\n",
       "      <th>qty</th>\n",
       "    </tr>\n",
       "  </thead>\n",
       "  <tbody>\n",
       "    <tr>\n",
       "      <th>0</th>\n",
       "      <td>DRR</td>\n",
       "      <td>121.20014</td>\n",
       "      <td>NaN</td>\n",
       "      <td>0</td>\n",
       "    </tr>\n",
       "    <tr>\n",
       "      <th>1</th>\n",
       "      <td>DRR</td>\n",
       "      <td>121.20024</td>\n",
       "      <td>NaN</td>\n",
       "      <td>0</td>\n",
       "    </tr>\n",
       "    <tr>\n",
       "      <th>2</th>\n",
       "      <td>DRR</td>\n",
       "      <td>121.34096</td>\n",
       "      <td>NaN</td>\n",
       "      <td>0</td>\n",
       "    </tr>\n",
       "    <tr>\n",
       "      <th>3</th>\n",
       "      <td>DRR</td>\n",
       "      <td>121.39038</td>\n",
       "      <td>NaN</td>\n",
       "      <td>0</td>\n",
       "    </tr>\n",
       "    <tr>\n",
       "      <th>4</th>\n",
       "      <td>DRR</td>\n",
       "      <td>121.58006</td>\n",
       "      <td>NaN</td>\n",
       "      <td>0</td>\n",
       "    </tr>\n",
       "  </tbody>\n",
       "</table>\n",
       "</div>"
      ],
      "text/plain": [
       "  Line Code Part Number  dbd  qty\n",
       "0       DRR   121.20014  NaN    0\n",
       "1       DRR   121.20024  NaN    0\n",
       "2       DRR   121.34096  NaN    0\n",
       "3       DRR   121.39038  NaN    0\n",
       "4       DRR   121.58006  NaN    0"
      ]
     },
     "execution_count": 53,
     "metadata": {},
     "output_type": "execute_result"
    }
   ],
   "source": [
    "po_ld_bal.head()"
   ]
  },
  {
   "cell_type": "code",
   "execution_count": 54,
   "metadata": {},
   "outputs": [],
   "source": [
    "#stack dataframes on top of each other\n",
    "po_ld_merge = pd.concat((po_ld_it, po_ld_bal), ignore_index=True)"
   ]
  },
  {
   "cell_type": "code",
   "execution_count": 55,
   "metadata": {},
   "outputs": [
    {
     "data": {
      "text/html": [
       "<div>\n",
       "<style scoped>\n",
       "    .dataframe tbody tr th:only-of-type {\n",
       "        vertical-align: middle;\n",
       "    }\n",
       "\n",
       "    .dataframe tbody tr th {\n",
       "        vertical-align: top;\n",
       "    }\n",
       "\n",
       "    .dataframe thead th {\n",
       "        text-align: right;\n",
       "    }\n",
       "</style>\n",
       "<table border=\"1\" class=\"dataframe\">\n",
       "  <thead>\n",
       "    <tr style=\"text-align: right;\">\n",
       "      <th></th>\n",
       "      <th>Line Code</th>\n",
       "      <th>Part Number</th>\n",
       "      <th>dbd</th>\n",
       "      <th>qty</th>\n",
       "    </tr>\n",
       "  </thead>\n",
       "  <tbody>\n",
       "    <tr>\n",
       "      <th>0</th>\n",
       "      <td>DRR</td>\n",
       "      <td>121.20014</td>\n",
       "      <td>4/2/2021</td>\n",
       "      <td>49</td>\n",
       "    </tr>\n",
       "    <tr>\n",
       "      <th>1</th>\n",
       "      <td>DRR</td>\n",
       "      <td>121.20024</td>\n",
       "      <td>4/2/2021</td>\n",
       "      <td>53</td>\n",
       "    </tr>\n",
       "    <tr>\n",
       "      <th>2</th>\n",
       "      <td>DRR</td>\n",
       "      <td>121.34096</td>\n",
       "      <td>4/2/2021</td>\n",
       "      <td>22</td>\n",
       "    </tr>\n",
       "    <tr>\n",
       "      <th>3</th>\n",
       "      <td>DRR</td>\n",
       "      <td>121.39038</td>\n",
       "      <td>4/2/2021</td>\n",
       "      <td>392</td>\n",
       "    </tr>\n",
       "    <tr>\n",
       "      <th>4</th>\n",
       "      <td>DRR</td>\n",
       "      <td>121.58006</td>\n",
       "      <td>4/2/2021</td>\n",
       "      <td>178</td>\n",
       "    </tr>\n",
       "  </tbody>\n",
       "</table>\n",
       "</div>"
      ],
      "text/plain": [
       "  Line Code Part Number       dbd  qty\n",
       "0       DRR   121.20014  4/2/2021   49\n",
       "1       DRR   121.20024  4/2/2021   53\n",
       "2       DRR   121.34096  4/2/2021   22\n",
       "3       DRR   121.39038  4/2/2021  392\n",
       "4       DRR   121.58006  4/2/2021  178"
      ]
     },
     "execution_count": 55,
     "metadata": {},
     "output_type": "execute_result"
    }
   ],
   "source": [
    "#check the results\n",
    "po_ld_merge.head()"
   ]
  },
  {
   "cell_type": "code",
   "execution_count": 56,
   "metadata": {},
   "outputs": [
    {
     "data": {
      "text/plain": [
       "(98636, 4)"
      ]
     },
     "execution_count": 56,
     "metadata": {},
     "output_type": "execute_result"
    }
   ],
   "source": [
    "#ensure the size of the dataset is in line with expectations\n",
    "po_ld_merge.shape"
   ]
  },
  {
   "cell_type": "code",
   "execution_count": 57,
   "metadata": {},
   "outputs": [],
   "source": [
    "#export to csv\n",
    "po_ld_merge.to_csv(r'C:\\Users\\skhalsa\\Desktop\\po_ld_3_30_21_v3.csv')"
   ]
  },
  {
   "cell_type": "code",
   "execution_count": 23,
   "metadata": {},
   "outputs": [
    {
     "data": {
      "text/plain": [
       "array([nan, '4/15/2021', '3/22/2021', '4/14/2021', '4/7/2021',\n",
       "       '4/12/2021', '4/8/2021', '3/28/2021', '4/24/2021', '4/5/2021',\n",
       "       '4/9/2021', '4/25/2021', '4/30/2021', '5/4/2021', '3/23/2021',\n",
       "       '4/3/2021', '4/21/2021', '3/26/2021', '3/24/2021', '4/19/2021',\n",
       "       '5/15/2021', '4/23/2021', '4/20/2021', '4/10/2021', '4/28/2021',\n",
       "       '4/1/2021', '4/16/2021', '4/18/2021', '3/21/2021', '3/27/2021',\n",
       "       '3/29/2021', '3/30/2021', '4/4/2021', '4/6/2021', '5/5/2021',\n",
       "       '5/13/2021', '3/20/2021', '3/31/2021', '4/2/2021', '4/11/2021',\n",
       "       '4/13/2021', '4/22/2021', '4/26/2021', '4/27/2021', '4/29/2021',\n",
       "       '5/1/2021', '5/2/2021', '5/3/2021', '5/6/2021', '5/7/2021',\n",
       "       '5/8/2021', '5/9/2021', '5/10/2021', '5/11/2021', '5/12/2021',\n",
       "       '5/14/2021', '5/16/2021', '5/17/2021', '5/18/2021', '5/19/2021',\n",
       "       '5/20/2021', '5/21/2021', '5/22/2021', '5/23/2021', '5/24/2021',\n",
       "       '5/25/2021', '5/26/2021', '5/27/2021', '5/28/2021', '5/29/2021',\n",
       "       '5/30/2021', '5/31/2021', '6/1/2021', '6/2/2021', '6/3/2021',\n",
       "       '6/4/2021', '6/5/2021', '6/6/2021', '6/7/2021', '6/8/2021',\n",
       "       '6/9/2021', '6/10/2021', '6/11/2021', '6/12/2021', '6/13/2021',\n",
       "       '6/14/2021', '6/15/2021', '6/16/2021', '6/17/2021', '6/18/2021',\n",
       "       '6/19/2021', '6/20/2021', '6/21/2021', '6/22/2021', '6/23/2021',\n",
       "       '6/24/2021', '6/25/2021', '6/26/2021', '6/27/2021', '6/28/2021',\n",
       "       '6/30/2021', '7/1/2021', '7/2/2021', '7/3/2021', '7/4/2021',\n",
       "       '7/5/2021', '7/6/2021', '7/7/2021', '7/8/2021', '7/10/2021',\n",
       "       '7/12/2021', '7/13/2021', '7/14/2021', '7/15/2021', '7/16/2021',\n",
       "       '7/18/2021', '7/19/2021', '7/21/2021', '7/22/2021', '7/24/2021',\n",
       "       '7/27/2021', '7/30/2021', '8/3/2021', '8/11/2021', '8/15/2021',\n",
       "       '8/30/2021'], dtype=object)"
      ]
     },
     "execution_count": 23,
     "metadata": {},
     "output_type": "execute_result"
    }
   ],
   "source": []
  },
  {
   "cell_type": "code",
   "execution_count": 24,
   "metadata": {},
   "outputs": [],
   "source": [
    "import pandas as pd\n",
    "import glob\n",
    "\n",
    "path = r'C:\\Users\\skhalsa\\Desktop\\weekly_exp_3_20_21'\n",
    "all_files = glob.glob(path +\"/*.csv\")\n",
    "\n",
    "li = []\n",
    "\n",
    "for filename in all_files:\n",
    "   df = pd.read_csv(filename, index_col=None, header=0)\n",
    "   li.append(df)\n",
    "\n",
    "frame = pd.concat(li, axis=0, ignore_index=True)\n",
    "frame.to_csv(r'C:\\Users\\skhalsa\\Desktop\\3_20_weekly_exp.csv')"
   ]
  },
  {
   "cell_type": "code",
   "execution_count": null,
   "metadata": {},
   "outputs": [],
   "source": []
  }
 ],
 "metadata": {
  "kernelspec": {
   "display_name": "Python 3",
   "language": "python",
   "name": "python3"
  },
  "language_info": {
   "codemirror_mode": {
    "name": "ipython",
    "version": 3
   },
   "file_extension": ".py",
   "mimetype": "text/x-python",
   "name": "python",
   "nbconvert_exporter": "python",
   "pygments_lexer": "ipython3",
   "version": "3.8.5"
  }
 },
 "nbformat": 4,
 "nbformat_minor": 4
}
